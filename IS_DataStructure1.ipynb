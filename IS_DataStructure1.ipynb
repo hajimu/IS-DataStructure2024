{
  "nbformat": 4,
  "nbformat_minor": 0,
  "metadata": {
    "colab": {
      "name": "IS_DataStructure1.ipynb",
      "provenance": [],
      "toc_visible": true,
      "authorship_tag": "ABX9TyP7qClaFnDLz+mpDMtRf2nm",
      "include_colab_link": true
    },
    "kernelspec": {
      "name": "python3",
      "display_name": "Python 3"
    }
  },
  "cells": [
    {
      "cell_type": "markdown",
      "metadata": {
        "id": "view-in-github",
        "colab_type": "text"
      },
      "source": [
        "<a href=\"https://colab.research.google.com/github/hajimu/IS-DataStructure/blob/main/IS_DataStructure1.ipynb\" target=\"_parent\"><img src=\"https://colab.research.google.com/assets/colab-badge.svg\" alt=\"Open In Colab\"/></a>"
      ]
    },
    {
      "cell_type": "markdown",
      "metadata": {
        "id": "IGb_nXgOIcrG"
      },
      "source": [
        "# Implementing SimpleStack as a class in Python\n",
        "Stack operation is alredy provided by built-in functions.\n",
        "You can use lists as stacks as follows:\n"
      ]
    },
    {
      "cell_type": "code",
      "metadata": {
        "id": "BV4g26r9Ik6P"
      },
      "source": [
        "mystack =[] #empty list\n",
        "for i in range(10):\n",
        "  mystack.append(i)\n",
        "\n",
        "print(mystack)\n",
        "print(mystack.pop())\n",
        "print(mystack)"
      ],
      "execution_count": null,
      "outputs": []
    },
    {
      "cell_type": "markdown",
      "metadata": {
        "id": "8HwRqKcOemk6"
      },
      "source": [
        "However, we implement our SimpleStack by hand for practice."
      ]
    },
    {
      "cell_type": "code",
      "metadata": {
        "id": "ISGSB8F5hZuO",
        "outputId": "c7595647-dd48-4fc9-d82d-d2cc35e5a9b3",
        "colab": {
          "base_uri": "https://localhost:8080/"
        }
      },
      "source": [
        "class SimpleStack:\n",
        "  maxsize = 100 #default stack size\n",
        "  def __init__(self):\n",
        "    self.top=0\n",
        "    self.body=[None] * self.maxsize # Make list of 'None' with maxsize\n",
        "\n",
        "  def push(self,val):\n",
        "    self.body[self.top]=val\n",
        "    self.top = self.top + 1 # increment stack pointer.\n",
        "    return self\n",
        "\n",
        "  def pop(self):\n",
        "    if self.top == 0:\n",
        "      return None # Stack is already empty\n",
        "    self.top = self.top -1 # decrement stack pointer.\n",
        "    return self.body[self.top]\n",
        "# class end\n",
        "\n",
        "# Let's test our 'SimpleStack'\n",
        "s = SimpleStack()\n",
        "for i in range(100):\n",
        "  s.push(i)\n",
        "\n",
        "print(s.pop(),s.pop(),s.pop(),s.pop(),s.pop(),s.pop())"
      ],
      "execution_count": 3,
      "outputs": [
        {
          "output_type": "stream",
          "name": "stdout",
          "text": [
            "99 98 97 96 95 94\n"
          ]
        }
      ]
    },
    {
      "cell_type": "markdown",
      "metadata": {
        "id": "8VhNsX7nnsDh"
      },
      "source": [
        "\n",
        "## Short priactice\n",
        "Add stack overflow check (return None if overflow) to the code above."
      ]
    },
    {
      "cell_type": "markdown",
      "metadata": {
        "id": "rczCBcVqtz3K"
      },
      "source": [
        "# Implementing SimpleQueue as a class in Python\n",
        "\n",
        "Queue equivalent operation is alredy provided by built-in functions.\n",
        "You can use lists as queues as follows:\n"
      ]
    },
    {
      "cell_type": "code",
      "metadata": {
        "id": "1KnIK1ZSUbf-"
      },
      "source": [
        "myqueue =[] #empty list\n",
        "for i in range(10):\n",
        "  myqueue.append(i)\n",
        "\n",
        "print(myqueue)\n",
        "print(myqueue.pop(0))\n",
        "myqueue.append(100)\n",
        "print(myqueue.pop(0))\n",
        "myqueue.append(222)\n",
        "print(myqueue.pop(0))\n",
        "myqueue.append(333)\n",
        "print(myqueue.pop(0))\n",
        "print(myqueue)"
      ],
      "execution_count": null,
      "outputs": []
    },
    {
      "cell_type": "markdown",
      "metadata": {
        "id": "GDkiOg4VVj18"
      },
      "source": [
        "However, we implement our SimpleQueue by hand for study.\n"
      ]
    },
    {
      "cell_type": "code",
      "metadata": {
        "id": "UGrsKbGobHBv",
        "outputId": "b4ce2461-d871-4d9e-b1c5-0a58a0e8e348",
        "colab": {
          "base_uri": "https://localhost:8080/"
        }
      },
      "source": [
        "class SimpleQueue:\n",
        "  maxsize = 10 #default queue size\n",
        "  def __init__(self):\n",
        "    self.head= 0 #initially starts from 0\n",
        "    self.tail = self.head #initially empty\n",
        "    #This is a trick to allocate fixed size fo array\n",
        "    self.body= [None] * self.maxsize\n",
        "\n",
        "  def queue(self,val):\n",
        "    self.body[self.tail]=val\n",
        "    self.tail=self.tail+1\n",
        "    if self.tail == self.maxsize:\n",
        "      self.tail=0\n",
        "    return self\n",
        "\n",
        "  def dequeue(self):\n",
        "    if self.head == self.tail and self.body[self.tail] == None:\n",
        "      return None\n",
        "    retval = self.body[self.head]\n",
        "    self.body[self.head] = None #clear cell\n",
        "    self.head = self.head + 1\n",
        "    if self.head == self.maxsize:\n",
        "      self.head = 0\n",
        "    return retval\n",
        "\n",
        "  def print(self):\n",
        "    print( 'head:', self.head, end = ',')\n",
        "    print( 'tail:', self.tail, end = ',')\n",
        "    print(self.body)\n",
        "\n",
        "\n",
        "# class end\n",
        "# Now use SimpleStack\n",
        "\n",
        "q = SimpleQueue()\n",
        "for i in range(5):\n",
        "  q.queue(i)\n",
        "  q.print()\n",
        "q.dequeue()\n",
        "q .print()\n",
        "q.dequeue()\n",
        "q .print()\n",
        "q.dequeue()\n",
        "q .print()\n",
        "q.queue(100)\n",
        "q.print()\n",
        "q.queue(101)\n",
        "q.print()\n",
        "q.queue(102)\n",
        "q.print()\n",
        "q.queue(103)\n",
        "q.print()\n",
        "q.dequeue(),q.dequeue(),q.dequeue()\n",
        "q.print()\n",
        "q.dequeue(),q.dequeue(),q.dequeue()\n",
        "q.print()\n",
        "\n",
        "\n"
      ],
      "execution_count": 5,
      "outputs": [
        {
          "output_type": "stream",
          "name": "stdout",
          "text": [
            "head: 0,tail: 1,[0, None, None, None, None, None, None, None, None, None]\n",
            "head: 0,tail: 2,[0, 1, None, None, None, None, None, None, None, None]\n",
            "head: 0,tail: 3,[0, 1, 2, None, None, None, None, None, None, None]\n",
            "head: 0,tail: 4,[0, 1, 2, 3, None, None, None, None, None, None]\n",
            "head: 0,tail: 5,[0, 1, 2, 3, 4, None, None, None, None, None]\n",
            "head: 1,tail: 5,[None, 1, 2, 3, 4, None, None, None, None, None]\n",
            "head: 2,tail: 5,[None, None, 2, 3, 4, None, None, None, None, None]\n",
            "head: 3,tail: 5,[None, None, None, 3, 4, None, None, None, None, None]\n",
            "head: 3,tail: 6,[None, None, None, 3, 4, 100, None, None, None, None]\n",
            "head: 3,tail: 7,[None, None, None, 3, 4, 100, 101, None, None, None]\n",
            "head: 3,tail: 8,[None, None, None, 3, 4, 100, 101, 102, None, None]\n",
            "head: 3,tail: 9,[None, None, None, 3, 4, 100, 101, 102, 103, None]\n",
            "head: 6,tail: 9,[None, None, None, None, None, None, 101, 102, 103, None]\n",
            "head: 9,tail: 9,[None, None, None, None, None, None, None, None, None, None]\n"
          ]
        }
      ]
    },
    {
      "cell_type": "markdown",
      "metadata": {
        "id": "T9IjQvaCn0Av"
      },
      "source": [
        "## Short practice\n",
        "Add overflow checking when queueing  (return None if overflow) to the code above."
      ]
    }
  ]
}