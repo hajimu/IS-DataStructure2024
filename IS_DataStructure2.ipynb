{
  "nbformat": 4,
  "nbformat_minor": 0,
  "metadata": {
    "colab": {
      "name": "IS_DataStructure2.ipynb",
      "provenance": [],
      "collapsed_sections": [],
      "toc_visible": true,
      "authorship_tag": "ABX9TyPpwWnRG/ksJ2RFeHrdR+R/",
      "include_colab_link": true
    },
    "kernelspec": {
      "name": "python3",
      "display_name": "Python 3"
    }
  },
  "cells": [
    {
      "cell_type": "markdown",
      "metadata": {
        "id": "view-in-github",
        "colab_type": "text"
      },
      "source": [
        "<a href=\"https://colab.research.google.com/github/hajimu/IS-DataStructure/blob/main/IS_DataStructure2.ipynb\" target=\"_parent\"><img src=\"https://colab.research.google.com/assets/colab-badge.svg\" alt=\"Open In Colab\"/></a>"
      ]
    },
    {
      "cell_type": "markdown",
      "metadata": {
        "id": "sxctlWfJ-A0n"
      },
      "source": [
        "#Implementing Doubly-Linked-List in Python\n",
        "\n",
        "A node is implemented as an object. We define \"Node\" class.\n",
        "Node object has three variables: key, prev, next.\n",
        "Node object itself has no methods.\n",
        "Prev and next store references to other object.\n",
        "We also need an object to represent a whole list.We define \"MyList\" class.\n",
        "MyList object has one variable: head that stores a reference to the head Node in the list.\n",
        "MyList object has (at least) three methods: insert, delete, search.\n"
      ]
    },
    {
      "cell_type": "code",
      "metadata": {
        "id": "Z2ykOm19_ncT"
      },
      "source": [
        "class Node:\n",
        "  def __init__(self,key):\n",
        "    self.key=key\n",
        "    self.prev=None\n",
        "    self.next=None\n",
        "\n",
        "class MyList:\n",
        "  def __init__(self):\n",
        "    self.head=None\n",
        "\n",
        "  def search(self,k):\n",
        "    visit = self.head\n",
        "    while visit != None and visit.key != k:\n",
        "      visit = visit.next\n",
        "    return visit\n",
        "    \n",
        "  def insert(self, node):\n",
        "    node.next = self.head\n",
        "    if self.head != None: #not empty list\n",
        "      self.head.prev = node\n",
        "    self.head = node\n",
        "\n",
        "  def delete(self, node):\n",
        "    if node.prev != None:\n",
        "      node.prev.next = node.next\n",
        "    else:\n",
        "      self.head = node.next\n",
        "    if node.next != None:\n",
        "      node.next.prev = node.prev\n",
        "\n",
        "  def print(self):\n",
        "    print('[', end='')\n",
        "    visit = self.head\n",
        "    while visit != None:\n",
        "      print(visit.key,end=',')\n",
        "      visit = visit.next\n",
        "    print(']')\n",
        "##########################\n",
        "#initialize a list by inserting 0..29\n",
        "l = MyList()\n",
        "for i in range(30):\n",
        "  l.insert(Node(i))\n",
        "#try a search\n",
        "n = l.search(25)\n",
        "print( '...',n.prev.key, ',', n.key, ',', n.next.key, '...')\n",
        "#try to delete a node\n",
        "l.delete(n)\n",
        "l.print()"
      ],
      "execution_count": null,
      "outputs": []
    },
    {
      "cell_type": "markdown",
      "metadata": {
        "id": "zKGcnqygtVLl"
      },
      "source": [
        "# Sentinel"
      ]
    },
    {
      "cell_type": "code",
      "metadata": {
        "id": "FgEWO6EMtXNd",
        "colab": {
          "base_uri": "https://localhost:8080/",
          "height": 371
        },
        "outputId": "9ac3ac19-2deb-4fdf-8937-8df6e80418d6"
      },
      "source": [
        "class MyList2:\n",
        "  def __init__(self):\n",
        "    # Create and insert a sentinel (=self.nil) at first\n",
        "    n = Node(None)\n",
        "    self.nil = n.next = n.prev = n\n",
        "\n",
        "  def search(self,k):\n",
        "    visit = self.nil.next\n",
        "    while visit != self.nil and visit.key != k:\n",
        "      visit = visit.next\n",
        "    return visit\n",
        " \n",
        "  def insert(self, node):\n",
        "    node.next = self.nil.next\n",
        "    self.nil.next.prev = node\n",
        "    self.nil.next = node\n",
        "    node.prev = self.nil\n",
        "\n",
        "  def delete(self, node):\n",
        "    node.prev.next = node.next\n",
        "    node.next.prev = node.prev\n",
        "    return None\n",
        "\n",
        "# print method must be updated to work\n",
        "  def print(self): #Copied from MyList (Need to FIX)\n",
        "    print('[', end='')\n",
        "    visit = self.head\n",
        "    while visit != None:\n",
        "      print(visit.key,end=',')\n",
        "      visit = visit.next\n",
        "    print(']')\n",
        "##########################\n",
        "#initialize a list by inserting 0..49\n",
        "l = MyList2()\n",
        "for i in range(30):\n",
        "  l.insert(Node(i))\n",
        "#try a search\n",
        "n = l.search(25)\n",
        "print( '...',n.prev.key, ',', n.key, ',', n.next.key, '...')\n",
        "#try to delete a node\n",
        "l.delete(n)\n",
        "l.print()"
      ],
      "execution_count": null,
      "outputs": [
        {
          "output_type": "stream",
          "name": "stdout",
          "text": [
            "... 26 , 25 , 24 ...\n",
            "["
          ]
        },
        {
          "output_type": "error",
          "ename": "AttributeError",
          "evalue": "ignored",
          "traceback": [
            "\u001b[0;31m---------------------------------------------------------------------------\u001b[0m",
            "\u001b[0;31mAttributeError\u001b[0m                            Traceback (most recent call last)",
            "\u001b[0;32m<ipython-input-8-15a6fccedb36>\u001b[0m in \u001b[0;36m<module>\u001b[0;34m()\u001b[0m\n\u001b[1;32m     39\u001b[0m \u001b[0;31m#try to delete a node\u001b[0m\u001b[0;34m\u001b[0m\u001b[0;34m\u001b[0m\u001b[0;34m\u001b[0m\u001b[0m\n\u001b[1;32m     40\u001b[0m \u001b[0ml\u001b[0m\u001b[0;34m.\u001b[0m\u001b[0mdelete\u001b[0m\u001b[0;34m(\u001b[0m\u001b[0mn\u001b[0m\u001b[0;34m)\u001b[0m\u001b[0;34m\u001b[0m\u001b[0;34m\u001b[0m\u001b[0m\n\u001b[0;32m---> 41\u001b[0;31m \u001b[0ml\u001b[0m\u001b[0;34m.\u001b[0m\u001b[0mprint\u001b[0m\u001b[0;34m(\u001b[0m\u001b[0;34m)\u001b[0m\u001b[0;34m\u001b[0m\u001b[0;34m\u001b[0m\u001b[0m\n\u001b[0m",
            "\u001b[0;32m<ipython-input-8-15a6fccedb36>\u001b[0m in \u001b[0;36mprint\u001b[0;34m(self)\u001b[0m\n\u001b[1;32m     24\u001b[0m   \u001b[0;32mdef\u001b[0m \u001b[0mprint\u001b[0m\u001b[0;34m(\u001b[0m\u001b[0mself\u001b[0m\u001b[0;34m)\u001b[0m\u001b[0;34m:\u001b[0m \u001b[0;31m#Copied from MyList (Need to FIX)\u001b[0m\u001b[0;34m\u001b[0m\u001b[0;34m\u001b[0m\u001b[0m\n\u001b[1;32m     25\u001b[0m     \u001b[0mprint\u001b[0m\u001b[0;34m(\u001b[0m\u001b[0;34m'['\u001b[0m\u001b[0;34m,\u001b[0m \u001b[0mend\u001b[0m\u001b[0;34m=\u001b[0m\u001b[0;34m''\u001b[0m\u001b[0;34m)\u001b[0m\u001b[0;34m\u001b[0m\u001b[0;34m\u001b[0m\u001b[0m\n\u001b[0;32m---> 26\u001b[0;31m     \u001b[0mvisit\u001b[0m \u001b[0;34m=\u001b[0m \u001b[0mself\u001b[0m\u001b[0;34m.\u001b[0m\u001b[0mhead\u001b[0m\u001b[0;34m\u001b[0m\u001b[0;34m\u001b[0m\u001b[0m\n\u001b[0m\u001b[1;32m     27\u001b[0m     \u001b[0;32mwhile\u001b[0m \u001b[0mvisit\u001b[0m \u001b[0;34m!=\u001b[0m \u001b[0;32mNone\u001b[0m\u001b[0;34m:\u001b[0m\u001b[0;34m\u001b[0m\u001b[0;34m\u001b[0m\u001b[0m\n\u001b[1;32m     28\u001b[0m       \u001b[0mprint\u001b[0m\u001b[0;34m(\u001b[0m\u001b[0mvisit\u001b[0m\u001b[0;34m.\u001b[0m\u001b[0mkey\u001b[0m\u001b[0;34m,\u001b[0m\u001b[0mend\u001b[0m\u001b[0;34m=\u001b[0m\u001b[0;34m','\u001b[0m\u001b[0;34m)\u001b[0m\u001b[0;34m\u001b[0m\u001b[0;34m\u001b[0m\u001b[0m\n",
            "\u001b[0;31mAttributeError\u001b[0m: 'MyList2' object has no attribute 'head'"
          ]
        }
      ]
    },
    {
      "cell_type": "markdown",
      "metadata": {
        "id": "OALSvPBnbLYj"
      },
      "source": [
        "## Short Practice\n",
        "Correct the print method to print all members of the sentinel list:"
      ]
    }
  ]
}