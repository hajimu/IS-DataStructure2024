{
  "nbformat": 4,
  "nbformat_minor": 0,
  "metadata": {
    "colab": {
      "provenance": [],
      "toc_visible": true,
      "authorship_tag": "ABX9TyPSra3YbrTJMmVOaIzlccXN",
      "include_colab_link": true
    },
    "kernelspec": {
      "name": "python3",
      "display_name": "Python 3"
    }
  },
  "cells": [
    {
      "cell_type": "markdown",
      "metadata": {
        "id": "view-in-github",
        "colab_type": "text"
      },
      "source": [
        "<a href=\"https://colab.research.google.com/github/hajimu/IS-DataStructure2024/blob/main/IS_DataStructure-report.ipynb\" target=\"_parent\"><img src=\"https://colab.research.google.com/assets/colab-badge.svg\" alt=\"Open In Colab\"/></a>"
      ]
    },
    {
      "cell_type": "markdown",
      "metadata": {
        "id": "-bHicm2ljDWT"
      },
      "source": [
        "# Mini Report\n",
        "\n",
        "Extend the MyGraphMatrix by adding two methods:\n",
        "\n",
        "1. method qadj(i,j) to judge whether thre is a **direct path** (i.e. edge) from i to j.\n",
        "> example: qadj(2,5) returns True and qadj(1,3) returns False.\n",
        "2. method trypath(path) to verify given path is valid (traversable) or not. Path is given as a list of int.\n",
        "> example: trypath( [ 1,2,3,4 ] ) returns True because all of following paths exist:\n",
        ">  1-2, 2-3, 3-4.\n",
        "\n",
        "HINT:\n",
        "* Adjacencies are stored in adjbody[0..n-1][0..n-1]\n",
        "* Therefore if you are going to check the adjacency between node[s] and node[t], you should check the value of adjbody[s-1][t-1]"
      ]
    },
    {
      "cell_type": "code",
      "source": [
        "class MyGraphMatrix:\n",
        "    def __init__(self, n):\n",
        "        self.adjbody = []\n",
        "        for i in range(n):\n",
        "            self.adjbody.append([0]*n)\n",
        "    def adj(self,v1,v2):\n",
        "        self.adjbody[v1-1][v2-1]=1"
      ],
      "metadata": {
        "id": "0edbrRtAHoFh"
      },
      "execution_count": 1,
      "outputs": []
    },
    {
      "cell_type": "code",
      "metadata": {
        "id": "hlQVclY5b5Us"
      },
      "source": [
        "## ANSWER CELL ##\n",
        "class MyGraphMatrix2(MyGraphMatrix):\n",
        "  def qadj(self,i,j):\n",
        "    # Check the adj. matrix value\n",
        "    if <...> ==0: ## Fill <...> ##Answer-1##\n",
        "      return False\n",
        "    else:\n",
        "      return True\n",
        "  def trypath(self,path):\n",
        "    i = 0\n",
        "    while i < len(path)-1:\n",
        "      # Check adjacency for series of nodes using qadj()\n",
        "      if <...>: ## Fill <...> ##Answer-2##\n",
        "        print(path[i],\"-\",path[i+1], \"OK.\")\n",
        "        i += 1\n",
        "      else:\n",
        "        print(path[i],\"-\",path[i+1], \"NG\")\n",
        "        return False\n",
        "    return True\n",
        "\n",
        "###TEST CODE###\n",
        "g2 = MyGraphMatrix2(5)\n",
        "g2.adj(1,2)\n",
        "g2.adj(1,5)\n",
        "g2.adj(2,1)\n",
        "g2.adj(2,5)\n",
        "g2.adj(2,3)\n",
        "g2.adj(2,4)\n",
        "g2.adj(3,2)\n",
        "g2.adj(3,4)\n",
        "g2.adj(4,2)\n",
        "g2.adj(4,3)\n",
        "g2.adj(5,1)\n",
        "g2.adj(5,2)\n",
        "print(g2.adjbody)\n",
        "print(g2.trypath([1,2,5,4,3]))\n",
        "print(g2.trypath([1,3,5,4,3]))\n",
        "print(g2.trypath([1,2,4,3,5]))\n",
        "print(g2.trypath([1,2,4,3,2,5]))"
      ],
      "execution_count": null,
      "outputs": []
    }
  ]
}
